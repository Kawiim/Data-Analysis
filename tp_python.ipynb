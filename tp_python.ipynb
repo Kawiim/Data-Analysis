{
 "cells": [
  {
   "cell_type": "markdown",
   "metadata": {},
   "source": [
    "# Projet Data Analysis Python\n",
    "## Karim BAALI - IBO1\n",
    "### Statlog (Image Segmentation)\n"
   ]
  },
  {
   "cell_type": "markdown",
   "metadata": {},
   "source": [
    "# Web-Scrapping"
   ]
  },
  {
   "cell_type": "code",
   "execution_count": 5,
   "metadata": {},
   "outputs": [],
   "source": [
    "import selenium\n",
    "from selenium import webdriver\n",
    "wd = webdriver.Firefox(executable_path=\"./geckodriver\")"
   ]
  },
  {
   "cell_type": "code",
   "execution_count": 13,
   "metadata": {},
   "outputs": [],
   "source": [
    "base_url = \"https://archive.ics.uci.edu/ml/datasets/Statlog+%28Image+Segmentation%29\"\n",
    "wd.get(base_url)"
   ]
  },
  {
   "cell_type": "code",
   "execution_count": 15,
   "metadata": {},
   "outputs": [
    {
     "name": "stdout",
     "output_type": "stream",
     "text": [
      "https://archive.ics.uci.edu/ml/machine-learning-databases/statlog/segment/\n"
     ]
    }
   ],
   "source": [
    "#Après avoir charger la page Web, on cherche l'élément contenant le lien de téléchargement \n",
    "xpath = \"/html/body/table[2]/tbody/tr/td/table[1]/tbody/tr/td[1]/p[1]/span[2]/a[1]\"\n",
    "link = wd.find_element_by_xpath(xpath)\n",
    "print(link.get_attribute('href'))"
   ]
  },
  {
   "cell_type": "code",
   "execution_count": 16,
   "metadata": {},
   "outputs": [
    {
     "name": "stdout",
     "output_type": "stream",
     "text": [
      "https://archive.ics.uci.edu/ml/machine-learning-databases/statlog/segment/segment.dat\n"
     ]
    }
   ],
   "source": [
    "#Avec le lien précédent, on accède à un index, comportant un lien vers le dataset \n",
    "#et un lien vers la datadoc\n",
    "index_url = link.get_attribute('href')\n",
    "wd.get(index_url)\n",
    "xpath = \"/html/body/table/tbody/tr[5]/td[2]/a\"\n",
    "dl_link = wd.find_element_by_xpath(xpath)\n",
    "print(dl_link.get_attribute('href'))"
   ]
  },
  {
   "cell_type": "markdown",
   "metadata": {},
   "source": [
    "# Data Visualisation"
   ]
  },
  {
   "cell_type": "code",
   "execution_count": 21,
   "metadata": {},
   "outputs": [],
   "source": [
    "import pandas as pd\n",
    "data = pd.read_csv(dl_link.get_attribute('href'), encoding=\"latin1\")"
   ]
  },
  {
   "cell_type": "code",
   "execution_count": 22,
   "metadata": {},
   "outputs": [
    {
     "data": {
      "text/html": [
       "<div>\n",
       "<style scoped>\n",
       "    .dataframe tbody tr th:only-of-type {\n",
       "        vertical-align: middle;\n",
       "    }\n",
       "\n",
       "    .dataframe tbody tr th {\n",
       "        vertical-align: top;\n",
       "    }\n",
       "\n",
       "    .dataframe thead th {\n",
       "        text-align: right;\n",
       "    }\n",
       "</style>\n",
       "<table border=\"1\" class=\"dataframe\">\n",
       "  <thead>\n",
       "    <tr style=\"text-align: right;\">\n",
       "      <th></th>\n",
       "      <th>218.0 178.0 9 0.11111111 0.0 0.8333327 0.54772234 1.1111094 0.5443307 59.62963 52.444443 75.22222 51.22222 -21.555555 46.77778 -25.222221 75.22222 0.31899637 -2.0405545 6</th>\n",
       "    </tr>\n",
       "  </thead>\n",
       "  <tbody>\n",
       "    <tr>\n",
       "      <th>0</th>\n",
       "      <td>113.0 130.0 9 0.0 0.0 0.27777776 0.25092423 0....</td>\n",
       "    </tr>\n",
       "    <tr>\n",
       "      <th>1</th>\n",
       "      <td>202.0 41.0 9 0.0 0.0 0.9444478 0.7722018 1.111...</td>\n",
       "    </tr>\n",
       "    <tr>\n",
       "      <th>2</th>\n",
       "      <td>32.0 173.0 9 0.0 0.0 1.7222217 1.7815932 9.0 6...</td>\n",
       "    </tr>\n",
       "    <tr>\n",
       "      <th>3</th>\n",
       "      <td>61.0 197.0 9 0.0 0.0 1.4444441 1.5153533 2.611...</td>\n",
       "    </tr>\n",
       "    <tr>\n",
       "      <th>4</th>\n",
       "      <td>149.0 185.0 9 0.0 0.0 1.5555553 1.0680546 3.05...</td>\n",
       "    </tr>\n",
       "  </tbody>\n",
       "</table>\n",
       "</div>"
      ],
      "text/plain": [
       "  218.0 178.0 9 0.11111111 0.0 0.8333327 0.54772234 1.1111094 0.5443307 59.62963 52.444443 75.22222 51.22222 -21.555555 46.77778 -25.222221 75.22222 0.31899637 -2.0405545 6\n",
       "0  113.0 130.0 9 0.0 0.0 0.27777776 0.25092423 0....                                                                                                                        \n",
       "1  202.0 41.0 9 0.0 0.0 0.9444478 0.7722018 1.111...                                                                                                                        \n",
       "2  32.0 173.0 9 0.0 0.0 1.7222217 1.7815932 9.0 6...                                                                                                                        \n",
       "3  61.0 197.0 9 0.0 0.0 1.4444441 1.5153533 2.611...                                                                                                                        \n",
       "4  149.0 185.0 9 0.0 0.0 1.5555553 1.0680546 3.05...                                                                                                                        "
      ]
     },
     "execution_count": 22,
     "metadata": {},
     "output_type": "execute_result"
    }
   ],
   "source": [
    "data.head(5)"
   ]
  },
  {
   "cell_type": "markdown",
   "metadata": {},
   "source": [
    "# Modélisation"
   ]
  },
  {
   "cell_type": "code",
   "execution_count": null,
   "metadata": {},
   "outputs": [],
   "source": []
  },
  {
   "cell_type": "code",
   "execution_count": null,
   "metadata": {},
   "outputs": [],
   "source": []
  }
 ],
 "metadata": {
  "kernelspec": {
   "display_name": "Python 3",
   "language": "python",
   "name": "python3"
  },
  "language_info": {
   "codemirror_mode": {
    "name": "ipython",
    "version": 3
   },
   "file_extension": ".py",
   "mimetype": "text/x-python",
   "name": "python",
   "nbconvert_exporter": "python",
   "pygments_lexer": "ipython3",
   "version": "3.6.8"
  }
 },
 "nbformat": 4,
 "nbformat_minor": 2
}
